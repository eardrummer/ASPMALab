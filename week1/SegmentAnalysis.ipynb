{
 "cells": [
  {
   "cell_type": "markdown",
   "metadata": {},
   "source": [
    "# Week 1 \n",
    "~ By Manaswi Mishra and Kushagra Sharma ~\n",
    "## Task : Music Segment Analysis\n",
    "\n",
    "### Goal : \n",
    "To analyze 20 musical tracks by splitting them into segments (1 beat, 2 beat, 4 beat, 8 beat) and clustering to find representative Segments.\n",
    "\n",
    "#### Input -\n",
    "    \n",
    "     Input Folder Path - Containing 20 musical tracks as .wav or .mp3 files\n",
    "      ./inputSounds\n",
    "\n",
    "#### Output -\n",
    "    \n",
    "     Creates represnetative audio segments in an outuput folder directory.\n",
    "      ./finalSounds\n",
    "      "
   ]
  },
  {
   "cell_type": "markdown",
   "metadata": {},
   "source": [
    "#### Steps :  (Notes to help implement) TODO: Remove this section once code is final and explained\n",
    "\n",
    "* Loads audio\n",
    "    - es.AudioLoader(filename)\n",
    "* Estimates beats positions\n",
    "    - es.BeatTrackerMultiFeature(signal)\n",
    "* Cuts audio into segments (Slicer algorithm)\n",
    "    - es.Slicer(signal) Parameters - start and end times\n",
    "* Computes MFCC frames in each segment and summarizes frames to mean/variance values (using PoolAggretator)\n",
    "    - w = es.Windowing(type)\n",
    "    - spectrum = es.Spectrum()\n",
    "    - es.MFCC(spectrum(w(frame)) - Compute mean and variances\n",
    "* Clusters segments using Scikit-learn (k-means clustering)\n",
    "    - from sklearn.cluster import KMeans\n",
    "    - kmeans = KMeans()\n",
    "    - kmeans.fit(values)\n",
    "* Write audio files with segments from each cluster (using AudioWriter)\n",
    "    - es.AudioWriter(audio signal)"
   ]
  },
  {
   "cell_type": "code",
   "execution_count": null,
   "metadata": {
    "collapsed": true
   },
   "outputs": [],
   "source": []
  }
 ],
 "metadata": {
  "kernelspec": {
   "display_name": "Python 2",
   "language": "python",
   "name": "python2"
  },
  "language_info": {
   "codemirror_mode": {
    "name": "ipython",
    "version": 2
   },
   "file_extension": ".py",
   "mimetype": "text/x-python",
   "name": "python",
   "nbconvert_exporter": "python",
   "pygments_lexer": "ipython2",
   "version": "2.7.12"
  }
 },
 "nbformat": 4,
 "nbformat_minor": 2
}
